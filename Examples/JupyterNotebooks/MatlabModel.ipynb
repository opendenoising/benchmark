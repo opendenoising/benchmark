{
 "cells": [
  {
   "cell_type": "markdown",
   "metadata": {},
   "source": [
    "# Model module tutorial\n",
    "\n",
    "This tutorial is a part of Model module guide. Here, we explore how you can use the MatlabModel wrapper to use your Matlab deep learning models in the benchmark."
   ]
  },
  {
   "cell_type": "code",
   "execution_count": 1,
   "metadata": {},
   "outputs": [],
   "source": [
    "# If you are executing this notebook at a location different than root, you need to add it to\n",
    "# the path.\n",
    "import sys\n",
    "sys.path.insert(0,'../../')"
   ]
  },
  {
   "cell_type": "code",
   "execution_count": 2,
   "metadata": {},
   "outputs": [],
   "source": [
    "# Python packages\n",
    "import gc\n",
    "import numpy as np\n",
    "import matplotlib.pyplot as plt\n",
    "from functools import partial"
   ]
  },
  {
   "cell_type": "code",
   "execution_count": 3,
   "metadata": {},
   "outputs": [],
   "source": [
    "# Matlab engine\n",
    "try:\n",
    "    import matlab.engine\n",
    "except ImportError as err:\n",
    "    print(err)\n",
    "\n",
    "# Matlab engine\n",
    "eng = matlab.engine.start_matlab()"
   ]
  },
  {
   "cell_type": "code",
   "execution_count": 4,
   "metadata": {},
   "outputs": [
    {
     "name": "stderr",
     "output_type": "stream",
     "text": [
      "Using TensorFlow backend.\n"
     ]
    }
   ],
   "source": [
    "# Benchmark modules\n",
    "from OpenDenoising import data\n",
    "from OpenDenoising import model\n",
    "from OpenDenoising import evaluation"
   ]
  },
  {
   "cell_type": "code",
   "execution_count": 5,
   "metadata": {},
   "outputs": [],
   "source": [
    "def display_results(clean_imgs, noisy_imgs, rest_images, name):\n",
    "    \"\"\"Display denoising results.\"\"\"\n",
    "    fig, axes = plt.subplots(5, 3, figsize=(15, 15))\n",
    "    \n",
    "    plt.suptitle(\"Denoising results using {}\".format(name))\n",
    "\n",
    "    for i in range(5):\n",
    "        axes[i, 0].imshow(np.squeeze(clean_imgs[i]), cmap=\"gray\")\n",
    "        axes[i, 0].axis(\"off\")\n",
    "        axes[i, 0].set_title(\"Ground-Truth\")\n",
    "\n",
    "        axes[i, 1].imshow(np.squeeze(noisy_imgs[i]), cmap=\"gray\")\n",
    "        axes[i, 1].axis(\"off\")\n",
    "        axes[i, 1].set_title(\"Noised Image\")\n",
    "\n",
    "        axes[i, 2].imshow(np.squeeze(rest_imgs[i]), cmap=\"gray\")\n",
    "        axes[i, 2].axis(\"off\")\n",
    "        axes[i, 2].set_title(\"Restored Images\")"
   ]
  },
  {
   "cell_type": "code",
   "execution_count": 6,
   "metadata": {},
   "outputs": [
    {
     "name": "stderr",
     "output_type": "stream",
     "text": [
      "2019-09-12 17:31:04,191 : WARNING : OpenDenoising.data : Directory ../../tmp/BSDS500/Train/ref already exists. Download was aborted. Check if the data was already downloaded.\n",
      "2019-09-12 17:31:05,543 : WARNING : OpenDenoising.data : Directory ../../tmp/BSDS500/Valid/ref already exists. Download was aborted. Check if the data was already downloaded.\n"
     ]
    }
   ],
   "source": [
    "data.download_BSDS_grayscale(output_dir=\"../../tmp/BSDS500/\")"
   ]
  },
  {
   "cell_type": "code",
   "execution_count": 7,
   "metadata": {},
   "outputs": [],
   "source": [
    "# Validation images generator\n",
    "valid_generator = data.DatasetFactory.create(path=\"../../tmp/BSDS500/Valid\",\n",
    "                                             batch_size=8,\n",
    "                                             n_channels=1,\n",
    "                                             noise_config={data.utils.gaussian_noise: [25]},\n",
    "                                             name=\"BSDS_Valid\")"
   ]
  },
  {
   "cell_type": "markdown",
   "metadata": {},
   "source": [
    "# Matlab model <a class=\"anchor\" id=\"Matlab-model\"></a> \n",
    "---\n",
    "\n",
    "# Navigation\n",
    "---\n",
    "\n",
    "* [Matlab Model](#Matlab-model)\n",
    "    * [Charging a model](#matlab-charging-a-model)\n",
    "    * [Training a MatlabModel](#matlab-model-training)\n",
    "    * [Inference with MatlabModel](#matlab-model-inference)"
   ]
  },
  {
   "cell_type": "markdown",
   "metadata": {},
   "source": [
    "## Charging a model <a class=\"anchor\" id=\"matlab-charging-a-model\"></a> \n",
    "\n",
    "To charge a Matlab model, you can either specify a Matlab function or a .mat file containing the architecture you want to train/test. In both cases, you need to specify a string.\n",
    "\n",
    "### From a file\n",
    "\n",
    "To charge a model from a file, you need to specify the path to the .mat file containing the model's architecture. Notice that for models that predict the residual, rather than the restored image, \"__return_diff__\" should be specified as True,"
   ]
  },
  {
   "cell_type": "code",
   "execution_count": 8,
   "metadata": {},
   "outputs": [],
   "source": [
    "matlabModel = model.MatlabModel(return_diff=True)"
   ]
  },
  {
   "cell_type": "code",
   "execution_count": 9,
   "metadata": {},
   "outputs": [],
   "source": [
    "matlabModel.charge_model(model_path=\"./Additional Files/Matlab Models/dncnn_matlab.mat\")"
   ]
  },
  {
   "cell_type": "markdown",
   "metadata": {},
   "source": [
    "After charging the model into the wrapper object, the network object will be available on Matlab's workspace. The following command prints the workspace into Jupyter's terminal window:"
   ]
  },
  {
   "cell_type": "code",
   "execution_count": 10,
   "metadata": {},
   "outputs": [
    {
     "data": {
      "text/plain": []
     },
     "execution_count": 10,
     "metadata": {},
     "output_type": "execute_result"
    }
   ],
   "source": [
    "matlabModel.engine.workspace"
   ]
  },
  {
   "cell_type": "markdown",
   "metadata": {},
   "source": [
    "### From a Function\n",
    "\n",
    "To specify a model from a function, you need to specify the path to the .m file that has the function that will build your model. This string is used internally to add the .m file to the path, and the to call the function using Matlab's engine.\n",
    "\n",
    "__Note:__ you may still pass extra arguments through kwargs, as if they were going to feed a normal Python function."
   ]
  },
  {
   "cell_type": "code",
   "execution_count": 11,
   "metadata": {},
   "outputs": [],
   "source": [
    "matlabModel2 = model.MatlabModel(return_diff=True, logdir=\"../../logs/Matlab\")\n",
    "matlabModel2.charge_model(model_function=\"../../OpenDenoising/model/architectures/matlab/dncnn.m\")"
   ]
  },
  {
   "cell_type": "markdown",
   "metadata": {},
   "source": [
    "## Inference with MatlabModel <a class=\"anchor\" id=\"matlab-model-inference\"></a> \n",
    "\n",
    "To perform inference, you may use the \"\\_\\_call\\_\\_\" method in MatlabModel class. This method uses the Matlab's engine to internally call \"denoiseImage\" matlab function, that uses the network object to denoise an input batch."
   ]
  },
  {
   "cell_type": "code",
   "execution_count": 12,
   "metadata": {},
   "outputs": [
    {
     "ename": "MatlabExecutionError",
     "evalue": "\n  File /usr/local/MATLAB/R2018b/toolbox/distcomp/gpu/gpuDevice.m, line 26, in gpuDevice\n\n  File /usr/local/MATLAB/R2018b/toolbox/nnet/cnn/+nnet/+internal/+cnn/+util/isGPUCompatible.m, line 10, in isGPUCompatible\n\n  File /usr/local/MATLAB/R2018b/toolbox/nnet/cnn/+nnet/+internal/+cnn/+util/GPUShouldBeUsed.m, line 17, in GPUShouldBeUsed\n\n  File /usr/local/MATLAB/R2018b/toolbox/nnet/cnn/SeriesNetwork.m, line 866, in SeriesNetwork.getPredictionEnvironment\n\n  File /usr/local/MATLAB/R2018b/toolbox/nnet/cnn/SeriesNetwork.m, line 771, in SeriesNetwork.activations\n\n  File /usr/local/MATLAB/R2018b/toolbox/images/images/denoiseImage.m, line 73, in denoiseImage\nAn unexpected error occurred during CUDA execution. The CUDA error was:\nout of memory\n",
     "output_type": "error",
     "traceback": [
      "\u001b[0;31m---------------------------------------------------------------------------\u001b[0m",
      "\u001b[0;31mMatlabExecutionError\u001b[0m                      Traceback (most recent call last)",
      "\u001b[0;32m<ipython-input-12-8e1ae2f1f035>\u001b[0m in \u001b[0;36m<module>\u001b[0;34m\u001b[0m\n\u001b[1;32m      2\u001b[0m \u001b[0mnoisy_imgs\u001b[0m\u001b[0;34m,\u001b[0m \u001b[0mclean_imgs\u001b[0m \u001b[0;34m=\u001b[0m \u001b[0mnext\u001b[0m\u001b[0;34m(\u001b[0m\u001b[0mvalid_generator\u001b[0m\u001b[0;34m)\u001b[0m\u001b[0;34m\u001b[0m\u001b[0;34m\u001b[0m\u001b[0m\n\u001b[1;32m      3\u001b[0m \u001b[0;31m# Performs inference on noisy images\u001b[0m\u001b[0;34m\u001b[0m\u001b[0;34m\u001b[0m\u001b[0;34m\u001b[0m\u001b[0m\n\u001b[0;32m----> 4\u001b[0;31m \u001b[0mrest_imgs\u001b[0m \u001b[0;34m=\u001b[0m \u001b[0mmatlabModel\u001b[0m\u001b[0;34m(\u001b[0m\u001b[0mnoisy_imgs\u001b[0m\u001b[0;34m)\u001b[0m\u001b[0;34m\u001b[0m\u001b[0;34m\u001b[0m\u001b[0m\n\u001b[0m",
      "\u001b[0;32m~/repos/Summer_Internship_2019/OpenDenoising/model/matlab_model.py\u001b[0m in \u001b[0;36m__call__\u001b[0;34m(self, image)\u001b[0m\n\u001b[1;32m    217\u001b[0m         \u001b[0mself\u001b[0m\u001b[0;34m.\u001b[0m\u001b[0mengine\u001b[0m\u001b[0;34m.\u001b[0m\u001b[0mworkspace\u001b[0m\u001b[0;34m[\u001b[0m\u001b[0;34m'Xbatch'\u001b[0m\u001b[0;34m]\u001b[0m \u001b[0;34m=\u001b[0m \u001b[0mmatlab\u001b[0m\u001b[0;34m.\u001b[0m\u001b[0mdouble\u001b[0m\u001b[0;34m(\u001b[0m\u001b[0mimage\u001b[0m\u001b[0;34m.\u001b[0m\u001b[0mtolist\u001b[0m\u001b[0;34m(\u001b[0m\u001b[0;34m)\u001b[0m\u001b[0;34m)\u001b[0m\u001b[0;34m\u001b[0m\u001b[0;34m\u001b[0m\u001b[0m\n\u001b[1;32m    218\u001b[0m         \u001b[0;31m# Denoises data using net object.\u001b[0m\u001b[0;34m\u001b[0m\u001b[0;34m\u001b[0m\u001b[0;34m\u001b[0m\u001b[0m\n\u001b[0;32m--> 219\u001b[0;31m         \u001b[0mself\u001b[0m\u001b[0;34m.\u001b[0m\u001b[0mengine\u001b[0m\u001b[0;34m.\u001b[0m\u001b[0mevalc\u001b[0m\u001b[0;34m(\u001b[0m\u001b[0;34m\"predicted_image = denoiseImage(Xbatch, net);\"\u001b[0m\u001b[0;34m)\u001b[0m\u001b[0;34m\u001b[0m\u001b[0;34m\u001b[0m\u001b[0m\n\u001b[0m\u001b[1;32m    220\u001b[0m         \u001b[0;32mif\u001b[0m \u001b[0;32mnot\u001b[0m \u001b[0mself\u001b[0m\u001b[0;34m.\u001b[0m\u001b[0mreturn_diff\u001b[0m\u001b[0;34m:\u001b[0m\u001b[0;34m\u001b[0m\u001b[0;34m\u001b[0m\u001b[0m\n\u001b[1;32m    221\u001b[0m             \u001b[0;31m# Returns difference between predicted image and input image.\u001b[0m\u001b[0;34m\u001b[0m\u001b[0;34m\u001b[0m\u001b[0;34m\u001b[0m\u001b[0m\n",
      "\u001b[0;32m~/anaconda3/envs/OpenDenoisingEnv/lib/python3.6/site-packages/matlab/engine/matlabengine.py\u001b[0m in \u001b[0;36m__call__\u001b[0;34m(self, *args, **kwargs)\u001b[0m\n\u001b[1;32m     69\u001b[0m         \u001b[0;32melse\u001b[0m\u001b[0;34m:\u001b[0m\u001b[0;34m\u001b[0m\u001b[0;34m\u001b[0m\u001b[0m\n\u001b[1;32m     70\u001b[0m             return FutureResult(self._engine(), future, nargs, _stdout,\n\u001b[0;32m---> 71\u001b[0;31m                                 _stderr, feval=True).result()\n\u001b[0m\u001b[1;32m     72\u001b[0m \u001b[0;34m\u001b[0m\u001b[0m\n\u001b[1;32m     73\u001b[0m     \u001b[0;32mdef\u001b[0m \u001b[0m__validate_engine\u001b[0m\u001b[0;34m(\u001b[0m\u001b[0mself\u001b[0m\u001b[0;34m)\u001b[0m\u001b[0;34m:\u001b[0m\u001b[0;34m\u001b[0m\u001b[0;34m\u001b[0m\u001b[0m\n",
      "\u001b[0;32m~/anaconda3/envs/OpenDenoisingEnv/lib/python3.6/site-packages/matlab/engine/futureresult.py\u001b[0m in \u001b[0;36mresult\u001b[0;34m(self, timeout)\u001b[0m\n\u001b[1;32m     65\u001b[0m                 \u001b[0;32mraise\u001b[0m \u001b[0mTypeError\u001b[0m\u001b[0;34m(\u001b[0m\u001b[0mpythonengine\u001b[0m\u001b[0;34m.\u001b[0m\u001b[0mgetMessage\u001b[0m\u001b[0;34m(\u001b[0m\u001b[0;34m'TimeoutCannotBeNegative'\u001b[0m\u001b[0;34m)\u001b[0m\u001b[0;34m)\u001b[0m\u001b[0;34m\u001b[0m\u001b[0;34m\u001b[0m\u001b[0m\n\u001b[1;32m     66\u001b[0m \u001b[0;34m\u001b[0m\u001b[0m\n\u001b[0;32m---> 67\u001b[0;31m         \u001b[0;32mreturn\u001b[0m \u001b[0mself\u001b[0m\u001b[0;34m.\u001b[0m\u001b[0m__future\u001b[0m\u001b[0;34m.\u001b[0m\u001b[0mresult\u001b[0m\u001b[0;34m(\u001b[0m\u001b[0mtimeout\u001b[0m\u001b[0;34m)\u001b[0m\u001b[0;34m\u001b[0m\u001b[0;34m\u001b[0m\u001b[0m\n\u001b[0m\u001b[1;32m     68\u001b[0m \u001b[0;34m\u001b[0m\u001b[0m\n\u001b[1;32m     69\u001b[0m     \u001b[0;32mdef\u001b[0m \u001b[0mcancel\u001b[0m\u001b[0;34m(\u001b[0m\u001b[0mself\u001b[0m\u001b[0;34m)\u001b[0m\u001b[0;34m:\u001b[0m\u001b[0;34m\u001b[0m\u001b[0;34m\u001b[0m\u001b[0m\n",
      "\u001b[0;32m~/anaconda3/envs/OpenDenoisingEnv/lib/python3.6/site-packages/matlab/engine/fevalfuture.py\u001b[0m in \u001b[0;36mresult\u001b[0;34m(self, timeout)\u001b[0m\n\u001b[1;32m     80\u001b[0m                 \u001b[0;32mraise\u001b[0m \u001b[0mTimeoutError\u001b[0m\u001b[0;34m(\u001b[0m\u001b[0mpythonengine\u001b[0m\u001b[0;34m.\u001b[0m\u001b[0mgetMessage\u001b[0m\u001b[0;34m(\u001b[0m\u001b[0;34m'MatlabFunctionTimeout'\u001b[0m\u001b[0;34m)\u001b[0m\u001b[0;34m)\u001b[0m\u001b[0;34m\u001b[0m\u001b[0;34m\u001b[0m\u001b[0m\n\u001b[1;32m     81\u001b[0m \u001b[0;34m\u001b[0m\u001b[0m\n\u001b[0;32m---> 82\u001b[0;31m             \u001b[0mself\u001b[0m\u001b[0;34m.\u001b[0m\u001b[0m_result\u001b[0m \u001b[0;34m=\u001b[0m \u001b[0mpythonengine\u001b[0m\u001b[0;34m.\u001b[0m\u001b[0mgetFEvalResult\u001b[0m\u001b[0;34m(\u001b[0m\u001b[0mself\u001b[0m\u001b[0;34m.\u001b[0m\u001b[0m_future\u001b[0m\u001b[0;34m,\u001b[0m\u001b[0mself\u001b[0m\u001b[0;34m.\u001b[0m\u001b[0m_nargout\u001b[0m\u001b[0;34m,\u001b[0m \u001b[0;32mNone\u001b[0m\u001b[0;34m,\u001b[0m \u001b[0mout\u001b[0m\u001b[0;34m=\u001b[0m\u001b[0mself\u001b[0m\u001b[0;34m.\u001b[0m\u001b[0m_out\u001b[0m\u001b[0;34m,\u001b[0m \u001b[0merr\u001b[0m\u001b[0;34m=\u001b[0m\u001b[0mself\u001b[0m\u001b[0;34m.\u001b[0m\u001b[0m_err\u001b[0m\u001b[0;34m)\u001b[0m\u001b[0;34m\u001b[0m\u001b[0;34m\u001b[0m\u001b[0m\n\u001b[0m\u001b[1;32m     83\u001b[0m             \u001b[0mself\u001b[0m\u001b[0;34m.\u001b[0m\u001b[0m_retrieved\u001b[0m \u001b[0;34m=\u001b[0m \u001b[0;32mTrue\u001b[0m\u001b[0;34m\u001b[0m\u001b[0;34m\u001b[0m\u001b[0m\n\u001b[1;32m     84\u001b[0m             \u001b[0;32mreturn\u001b[0m \u001b[0mself\u001b[0m\u001b[0;34m.\u001b[0m\u001b[0m_result\u001b[0m\u001b[0;34m\u001b[0m\u001b[0;34m\u001b[0m\u001b[0m\n",
      "\u001b[0;31mMatlabExecutionError\u001b[0m: \n  File /usr/local/MATLAB/R2018b/toolbox/distcomp/gpu/gpuDevice.m, line 26, in gpuDevice\n\n  File /usr/local/MATLAB/R2018b/toolbox/nnet/cnn/+nnet/+internal/+cnn/+util/isGPUCompatible.m, line 10, in isGPUCompatible\n\n  File /usr/local/MATLAB/R2018b/toolbox/nnet/cnn/+nnet/+internal/+cnn/+util/GPUShouldBeUsed.m, line 17, in GPUShouldBeUsed\n\n  File /usr/local/MATLAB/R2018b/toolbox/nnet/cnn/SeriesNetwork.m, line 866, in SeriesNetwork.getPredictionEnvironment\n\n  File /usr/local/MATLAB/R2018b/toolbox/nnet/cnn/SeriesNetwork.m, line 771, in SeriesNetwork.activations\n\n  File /usr/local/MATLAB/R2018b/toolbox/images/images/denoiseImage.m, line 73, in denoiseImage\nAn unexpected error occurred during CUDA execution. The CUDA error was:\nout of memory\n"
     ]
    }
   ],
   "source": [
    "# Get batch from valid_generator\n",
    "noisy_imgs, clean_imgs = next(valid_generator)\n",
    "# Performs inference on noisy images\n",
    "rest_imgs = matlabModel(noisy_imgs)"
   ]
  },
  {
   "cell_type": "code",
   "execution_count": null,
   "metadata": {},
   "outputs": [],
   "source": [
    "display_results(clean_imgs, noisy_imgs, noisy_imgs - rest_imgs, str(matlabModel))"
   ]
  },
  {
   "cell_type": "markdown",
   "metadata": {},
   "source": [
    "## Training a MatlabModel <a class=\"anchor\" id=\"matlab-model-training\"></a> \n",
    "\n",
    "To train a MatlabModel, you need to specify a training (and possibly a validation) dataset through a string. This string correspond to the name of the dataset in Matlab's workspace.\n",
    "\n",
    "To create the dataset in the workspace, you can use the classes 'imageDatastore', 'CleanMatlabDataset' and 'FullMatlabDataset', which are Matlab classes for generating data to train Deep Learning models.\n",
    "\n",
    "### Using a CleanDataset\n",
    "\n",
    "As in the case of Python's CleanDatasetGenerator, to specify a Clean Dataset using Matlab you need to specify the noising function, called noiseFcn. This function should be specified as a string, that has the __lambda signature__ on it.\n",
    "\n",
    "For instance, if you want to use Gaussia noise on your dataset, you need to specify:\n",
    "\n",
    "noiseFcn = \"@(I) imnoise(I, 'gaussian', 0, 25/255)\".\n",
    "\n",
    "For more complex kinds of functions, you can implement it as a .m function, and specify its arguments via the same strategy.\n",
    "\n",
    "__Note:__ You should make sure that \"./OpenDenoising/data/\" folder is on Matlab's path (add it to pathdef.m)."
   ]
  },
  {
   "cell_type": "code",
   "execution_count": 14,
   "metadata": {},
   "outputs": [],
   "source": [
    "dataset_train_wrapper = data.MatlabDatasetWrapper(matlabModel2.engine, images_path=\"../../tmp/BSDS500/Train/ref\",\n",
    "                                                         partition=\"Train\")\n",
    "dataset_train_wrapper()"
   ]
  },
  {
   "cell_type": "code",
   "execution_count": 15,
   "metadata": {},
   "outputs": [],
   "source": [
    "dataset_valid_wrapper = data.MatlabDatasetWrapper(matlabModel2.engine, images_path=\"../../tmp/BSDS500/Valid/ref\",\n",
    "                                                         partition=\"Valid\")\n",
    "dataset_valid_wrapper()"
   ]
  },
  {
   "cell_type": "code",
   "execution_count": 16,
   "metadata": {},
   "outputs": [
    {
     "data": {
      "text/plain": []
     },
     "execution_count": 16,
     "metadata": {},
     "output_type": "execute_result"
    }
   ],
   "source": [
    "matlabModel2.engine.workspace"
   ]
  },
  {
   "cell_type": "code",
   "execution_count": 17,
   "metadata": {},
   "outputs": [
    {
     "name": "stdout",
     "output_type": "stream",
     "text": [
      "opts = trainingOptions('adam', 'Plots', 'training-progress','Verbose', true,'VerboseFrequency', 500,'MaxEpochs', 250,'Shuffle', 'every-epoch','ValidationData', valid_imds,'CheckpointPath', '../../OpenDenoising/training_logs/Matlab');\n"
     ]
    }
   ],
   "source": [
    "matlabModel2.train(train_generator=\"imds_Train_noise\", valid_generator=\"imds_Valid_noise\")"
   ]
  }
 ],
 "metadata": {
  "kernelspec": {
   "display_name": "Python 3",
   "language": "python",
   "name": "python3"
  },
  "language_info": {
   "codemirror_mode": {
    "name": "ipython",
    "version": 3
   },
   "file_extension": ".py",
   "mimetype": "text/x-python",
   "name": "python",
   "nbconvert_exporter": "python",
   "pygments_lexer": "ipython3",
   "version": "3.6.8"
  }
 },
 "nbformat": 4,
 "nbformat_minor": 2
}
