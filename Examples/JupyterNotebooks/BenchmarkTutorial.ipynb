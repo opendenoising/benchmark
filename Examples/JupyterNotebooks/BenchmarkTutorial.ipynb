{
 "cells": [
  {
   "cell_type": "markdown",
   "metadata": {},
   "source": [
    "# Benchmark Tutorial"
   ]
  },
  {
   "cell_type": "code",
   "execution_count": 1,
   "metadata": {},
   "outputs": [],
   "source": [
    "# If you are executing this notebook at a location different than root, you need to add it to\n",
    "# the path.\n",
    "import sys\n",
    "sys.path.insert(0,'../../')"
   ]
  },
  {
   "cell_type": "code",
   "execution_count": 2,
   "metadata": {},
   "outputs": [
    {
     "name": "stderr",
     "output_type": "stream",
     "text": [
      "Using TensorFlow backend.\n"
     ]
    }
   ],
   "source": [
    "import keras\n",
    "import tensorflow as tf\n",
    "from functools import partial"
   ]
  },
  {
   "cell_type": "code",
   "execution_count": 3,
   "metadata": {},
   "outputs": [
    {
     "name": "stdout",
     "output_type": "stream",
     "text": [
      "current directory is : /home/efernand/repos/Summer_Internship_2019/Examples/JupyterNotebooks\n",
      "Directory name is : JupyterNotebooks\n"
     ]
    }
   ],
   "source": [
    "import os\n",
    " \n",
    "dirpath = os.getcwd()\n",
    "print(\"current directory is : \" + dirpath)\n",
    "foldername = os.path.basename(dirpath)\n",
    "print(\"Directory name is : \" + foldername)"
   ]
  },
  {
   "cell_type": "code",
   "execution_count": 4,
   "metadata": {},
   "outputs": [],
   "source": [
    "# OpenDenoising modules\n",
    "from OpenDenoising import data\n",
    "from OpenDenoising import model\n",
    "from OpenDenoising import evaluation\n",
    "from OpenDenoising import Benchmark"
   ]
  },
  {
   "cell_type": "code",
   "execution_count": 5,
   "metadata": {},
   "outputs": [],
   "source": [
    "config = tf.ConfigProto()\n",
    "config.gpu_options.allow_growth = True\n",
    "session = tf.Session(config=config)\n",
    "keras.backend.set_session(session)"
   ]
  },
  {
   "cell_type": "markdown",
   "metadata": {},
   "source": [
    "## Table of Contents\n",
    "---\n",
    "\n",
    "* [Metrics](#metrics)\n",
    "* [Visualizations](#visualizations)\n",
    "* [ModelEvaluator](#model-evaluator)"
   ]
  },
  {
   "cell_type": "markdown",
   "metadata": {},
   "source": [
    "## Metrics <a class=\"anchor\" id=\"metrics\"></a>\n",
    "---\n",
    "\n",
    "The metrics sub-module is composed by wrapper functions to metrics used to assess image restoration quality, such as __MSE__, __SSIM__ and __PSNR__. These functions simply wrap [skimage.measure](https://scikit-image.org/docs/dev/api/skimage.measure.html) functions, so that they work with 4D arrays.\n",
    "\n",
    "__MSE:__ The [Mean Squared Error](https://en.wikipedia.org/wiki/Mean_squared_error) metric is a common metric used to calculate the distance between two images in a euclidean space. If measures the mean per-pixel deviation between $y_{true}$ and $y_{pred}$,\n",
    "\n",
    "\\begin{align}\n",
    "    RMSE = \\dfrac{1}{N\\times H\\times W\\times C}\\sum_{n=1}^{N}\\sum_{i=1}^{H}\\sum_{j=1}^{W}\\sum_{k=1}^{C}(y_{true}(n, i, j, k)-y_{pred}(n, i, j, k))^{2}\n",
    "\\end{align}\n",
    "\n",
    "__SSIM:__ The [Structural Similarity Index](https://en.wikipedia.org/wiki/Structural_similarity) is a metric that evaluates the perceived quality of a given image, with respect to a reference image. Let $x$ and $y$ be image patches, the SSIM between them is,\n",
    "\n",
    "\\begin{align}\n",
    "    SSIM(x, y) = \\dfrac{(2\\mu_{x}\\mu_{y}+C_{1})(2\\sigma_{xy}+C_{2})}{(\\mu_{x}^{2}+\\mu_{y}^{2}+C_{1})(\\sigma_{x}^{2}+\\sigma_{y}^{2}+C_{2})}\n",
    "\\end{align}\n",
    "\n",
    "where\n",
    "\n",
    "* $\\mu_{x}$, $\\mu_{y}$ are respectively the mean of pixels in each patch.\n",
    "* $\\sigma_{x}$, $\\sigma_{y}$ are respectively the variance of pixels in each patch.\n",
    "* $\\sigma_{xy}$ is the covariance between patches $x$ and $y$.\n",
    "* $c_{1} = 0.01$, $c_{2} = 0.03$\n",
    "\n",
    "The image overall SSIM, a scalar value, is taken as the mean value of SSIM on each patch.\n",
    "\n",
    "__PSNR:__ The [Peak Signal to Noise Ratio](https://en.wikipedia.org/wiki/Peak_signal-to-noise_ratio) is metric used for measuring noise present on signals. Its computation is based on the MSE metric,\n",
    "\n",
    "\\begin{align}\n",
    "    PSNR(y_{true}, y_{pred}) = 10log_{10}\\biggr(\\dfrac{max(y_{true})}{MSE(y_{true}, y_{pred})}\\biggr)\n",
    "\\end{align}\n",
    "\n",
    "where $max(y_{true})$ corresponds to the maximum pixel value on $y_{true}$."
   ]
  },
  {
   "cell_type": "markdown",
   "metadata": {},
   "source": [
    "### Visualizations <a class=\"anchor\" id=\"visualizations\"></a>\n",
    "---\n",
    "\n",
    "Visualizations are functions that use the Benchmark evaluation results to display information graphically. As it will be explained on the [Benchmarking Module](#benchmarking-module), the results of a evaluation session are stored in two .csv files,\n",
    "\n",
    "* (\\$BENCHMARK_NAME)_GeneralResults.csv: stores aggregates of metrics, such as mean and variance.\n",
    "* (\\$BENCHMARK_NAME)_Values.csv: stores the metrics computed on each image of each dataset.\n",
    "\n",
    "Visualizations rely on Pandas and Seaborn to display these informations, hence, your function should agree with the following convention,\n",
    "\n",
    "```Python\n",
    "def my_visualization(csv_path, **kwargs):\n",
    "    # Steps to generate your plot\n",
    "```"
   ]
  },
  {
   "cell_type": "markdown",
   "metadata": {},
   "source": [
    "### ModelEvaluator <a class=\"anchor\" id=\"evaluators\"></a>\n",
    "---\n",
    "\n",
    "The evaluator class is responsable for evaluating a model on a given dataset. It holds all the information about the inference session, such as metrics. Apart from training models on datasets, this class is the main responsable for the Benchmark purpose: the fair comparison of denoising algorithms.\n",
    "\n",
    "The comparison between denoising algorithms is established by specifying the following,\n",
    "\n",
    "* A denoising algorithm, which is wrapped by Denoiser classes.\n",
    "* A dataset, which is generated using DatasetGenerator classes.\n",
    "* A set of metrics, each of which computing a scalar allowing to compare different algorithms.\n",
    "* A set of visualizations, which display the later informations graphically."
   ]
  },
  {
   "cell_type": "markdown",
   "metadata": {},
   "source": [
    "#### Specifying datasets"
   ]
  },
  {
   "cell_type": "code",
   "execution_count": 6,
   "metadata": {
    "scrolled": false
   },
   "outputs": [
    {
     "name": "stderr",
     "output_type": "stream",
     "text": [
      "Downloading images from https:raw.githubusercontent.comcsznDnCNNmastertestsetsBSD68: 100%|##########| 68/68 [00:22<00:00,  3.10it/s]\n",
      "Downloading images from https:raw.githubusercontent.comcsznDnCNNmastertestsetsSet12: 100%|##########| 12/12 [00:03<00:00,  3.46it/s]\n"
     ]
    }
   ],
   "source": [
    "# Downloading testsets\n",
    "try:\n",
    "    data.download_dncnn_testsets(output_dir=\"../../tmp/TestSets\", testset=\"BSD68\")\n",
    "except FileExistsError as err:\n",
    "    pass\n",
    "\n",
    "try:\n",
    "    data.download_dncnn_testsets(output_dir=\"../../tmp/TestSets\", testset=\"Set12\")\n",
    "except FileExistsError as err:\n",
    "    pass"
   ]
  },
  {
   "cell_type": "code",
   "execution_count": 7,
   "metadata": {},
   "outputs": [],
   "source": [
    "# BSD Dataset\n",
    "BSD68 = data.DatasetFactory.create(path=\"../../tmp/TestSets/BSD68/\",\n",
    "                                   batch_size=1,\n",
    "                                   n_channels=1,\n",
    "                                   noise_config={data.utils.gaussian_noise: [25]},\n",
    "                                   name=\"BSD68\")\n",
    "# Set12 Dataset\n",
    "Set12 = data.DatasetFactory.create(path=\"../../tmp/TestSets/Set12/\",\n",
    "                                   batch_size=1,\n",
    "                                   n_channels=1,\n",
    "                                   noise_config={data.utils.gaussian_noise: [25]},\n",
    "                                   name=\"Set12\")\n",
    "datasets = [BSD68, Set12]"
   ]
  },
  {
   "cell_type": "markdown",
   "metadata": {},
   "source": [
    "#### Specifying models\n",
    "\n",
    "__Deep Learning models__\n",
    "\n",
    "In \"./Additional Files\", you have at your disposal various pre-trained models. To load them, you only need to specify the path to the file containing their architecture/weights. For more details about how the model module works, you can look the Model module tutorial.\n",
    "\n",
    "Bellow, we charge each model using the respective wrapper class for its framework."
   ]
  },
  {
   "cell_type": "code",
   "execution_count": 8,
   "metadata": {},
   "outputs": [
    {
     "name": "stderr",
     "output_type": "stream",
     "text": [
      "/home/efernand/anaconda3/envs/OpenDenoisingEnv/lib/python3.6/site-packages/keras/engine/saving.py:292: UserWarning: No training configuration found in save file: the model was *not* compiled. Compile it manually.\n",
      "  warnings.warn('No training configuration found in save file: '\n"
     ]
    }
   ],
   "source": [
    "# Keras rednet30\n",
    "keras_rednet30 = model.KerasModel(model_name=\"Keras_Rednet30\", logdir=\"../../training_logs/Keras\")\n",
    "keras_rednet30.charge_model(model_path=\"./Additional Files/Keras Models/rednet30.hdf5\")\n",
    "\n",
    "# Keras rednet20\n",
    "keras_rednet20 = model.KerasModel(model_name=\"Keras_Rednet20\", logdir=\"../../training_logs/Keras\")\n",
    "keras_rednet20.charge_model(model_path=\"./Additional Files/Keras Models/rednet20.hdf5\")\n",
    "\n",
    "# Keras rednet10\n",
    "keras_rednet10 = model.KerasModel(model_name=\"Keras_Rednet10\", logdir=\"../../training_logs/Keras\")\n",
    "keras_rednet10.charge_model(model_path=\"./Additional Files/Keras Models/rednet10.hdf5\")\n",
    "\n",
    "# Onnx dncnn from Matlab\n",
    "onnx_dncnn = model.OnnxModel(model_name=\"Onnx_DnCNN\")\n",
    "onnx_dncnn.charge_model(model_path=\"./Additional Files/Onnx Models/dncnn.onnx\")"
   ]
  },
  {
   "cell_type": "markdown",
   "metadata": {},
   "source": [
    "__Filtering models__\n",
    "\n",
    "The specification of filtering models is made the same way. Since these kinds of model do not need to be trained, you only need to specify the function that will perform the denoising. Bellow, we specify BM3D implemented on Python through Matlab's engine.\n",
    "\n",
    "__Note__ If you have not installed Matlab support, or have not installed BM3D library from [the author's website](http://www.cs.tut.fi/~foi/GCF-BM3D/), comment the next block."
   ]
  },
  {
   "cell_type": "code",
   "execution_count": 9,
   "metadata": {},
   "outputs": [],
   "source": [
    "# BM3D from Matlab\n",
    "bm3d_filter = model.FilteringModel(model_name=\"BM3D_filter\")\n",
    "bm3d_filter.charge_model(model_function=model.filtering.BM3D, sigma=25.0, profile=\"np\")"
   ]
  },
  {
   "cell_type": "code",
   "execution_count": 10,
   "metadata": {},
   "outputs": [],
   "source": [
    "# List of models\n",
    "# Note: comment/uncomment the following lines according to if you have specified or not bm3d_filter.\n",
    "# List with BM3D:\n",
    "models = [bm3d_filter, onnx_dncnn, keras_rednet10, keras_rednet20, keras_rednet30]\n",
    "# List without BM3D:\n",
    "# models = [onnx_dncnn, keras_rednet10, keras_rednet20, keras_rednet30]"
   ]
  },
  {
   "cell_type": "code",
   "execution_count": 11,
   "metadata": {},
   "outputs": [
    {
     "data": {
      "text/plain": [
       "[Filtering model name: BM3D_filter,\n",
       " Model name: Onnx_DnCNN, Framework: Onnx,\n",
       " Model name: Keras_Rednet10, Framework: Keras,\n",
       " Model name: Keras_Rednet20, Framework: Keras,\n",
       " Model name: Keras_Rednet30, Framework: Keras]"
      ]
     },
     "execution_count": 11,
     "metadata": {},
     "output_type": "execute_result"
    }
   ],
   "source": [
    "models"
   ]
  },
  {
   "cell_type": "markdown",
   "metadata": {},
   "source": [
    "#### Specifying metrics\n",
    "\n",
    "As already explained, a metric is a function computed using the ground-truth $y_{true}$ and the network's prediction $y_{pred}$. Bellow, we use three metrics in our evaluations, that were already coded in the benchmarking module. "
   ]
  },
  {
   "cell_type": "code",
   "execution_count": 12,
   "metadata": {},
   "outputs": [],
   "source": [
    "mse_metric = evaluation.Metric(name=\"MSE\", np_metric=evaluation.skimage_mse)\n",
    "ssim_metric = evaluation.Metric(name=\"SSIM\", np_metric=evaluation.skimage_ssim)\n",
    "psnr_metric = evaluation.Metric(name=\"PSNR\", np_metric=evaluation.skimage_psnr)\n",
    "\n",
    "metrics = [mse_metric, psnr_metric, ssim_metric]"
   ]
  },
  {
   "cell_type": "markdown",
   "metadata": {},
   "source": [
    "__Specifying Visualizations__"
   ]
  },
  {
   "cell_type": "code",
   "execution_count": 13,
   "metadata": {},
   "outputs": [],
   "source": [
    "boxplot_PSNR = evaluation.Visualisation(func=partial(evaluation.boxplot, metric=\"PSNR\"),\n",
    "                                        name=\"Boxplot_PSNR\")\n",
    "\n",
    "boxplot_SSIM = evaluation.Visualisation(func=partial(evaluation.boxplot, metric=\"SSIM\"),\n",
    "                                        name=\"Boxplot_SSIM\")\n",
    "\n",
    "boxplot_MSE = evaluation.Visualisation(func=partial(evaluation.boxplot, metric=\"MSE\"),\n",
    "                                        name=\"Boxplot_MSE\")\n",
    "\n",
    "\n",
    "\n",
    "visualisations = [boxplot_PSNR, boxplot_SSIM, boxplot_MSE]"
   ]
  },
  {
   "cell_type": "markdown",
   "metadata": {},
   "source": [
    "__Create ModelEvaluator object__\n",
    "\n",
    "To evaluate your models on the desired datasets, you need to create an ModelEvaluator. Having a list of __metrics__, __datasets__, __models__ and __visualizations__, you can register each of them by using register functions, as shown bellow,"
   ]
  },
  {
   "cell_type": "code",
   "execution_count": 14,
   "metadata": {
    "scrolled": false
   },
   "outputs": [
    {
     "name": "stdout",
     "output_type": "stream",
     "text": [
      "[Benchmark] Evaluating model BM3D_filter on dataset BSD68\n",
      "[Benchmark] Evaluating model Onnx_DnCNN on dataset BSD68\n",
      "[Benchmark] Evaluating model Keras_Rednet10 on dataset BSD68\n",
      "[Benchmark] Evaluating model Keras_Rednet20 on dataset BSD68\n",
      "[Benchmark] Evaluating model Keras_Rednet30 on dataset BSD68\n",
      "[Benchmark] Evaluating model BM3D_filter on dataset Set12\n",
      "[Benchmark] Evaluating model Onnx_DnCNN on dataset Set12\n",
      "[Benchmark] Evaluating model Keras_Rednet10 on dataset Set12\n",
      "[Benchmark] Evaluating model Keras_Rednet20 on dataset Set12\n",
      "[Benchmark] Evaluating model Keras_Rednet30 on dataset Set12\n"
     ]
    },
    {
     "data": {
      "image/png": "[encoded data removed]",
      "text/plain": [
       "<Figure size 1800x720 with 1 Axes>"
      ]
     },
     "metadata": {},
     "output_type": "display_data"
    },
    {
     "data": {
      "image/png": "[encoded data removed]",
      "text/plain": [
       "<Figure size 1800x720 with 1 Axes>"
      ]
     },
     "metadata": {},
     "output_type": "display_data"
    },
    {
     "data": {
      "image/png": "[encoded data removed]",
      "text/plain": [
       "<Figure size 1800x720 with 1 Axes>"
      ]
     },
     "metadata": {},
     "output_type": "display_data"
    }
   ],
   "source": [
    "benchmark = Benchmark(name=\"BSD68_Test12\")\n",
    "\n",
    "# Register metrics\n",
    "benchmark.register(metrics)\n",
    "# Register datasets\n",
    "benchmark.register(datasets)\n",
    "# Register models\n",
    "benchmark.register(models)\n",
    "# Register visualisations\n",
    "benchmark.register(visualisations)\n",
    "\n",
    "benchmark.evaluate()"
   ]
  },
  {
   "cell_type": "code",
   "execution_count": 15,
   "metadata": {},
   "outputs": [
    {
     "data": {
      "text/plain": [
       "2158608"
      ]
     },
     "execution_count": 15,
     "metadata": {},
     "output_type": "execute_result"
    }
   ],
   "source": [
    "# Run this cell to free up the memory\n",
    "import gc\n",
    "\n",
    "for mdl in models:\n",
    "    mdl = None\n",
    "models = None\n",
    "for dataset in datasets:\n",
    "    dataset = None\n",
    "datasets = None\n",
    "for metric in metrics:\n",
    "    metric = None\n",
    "metrics = None\n",
    "for visualisation in visualisations:\n",
    "    visualisation = None\n",
    "visualisations = None\n",
    "benchmark = None\n",
    "\n",
    "# Resets constructed tensorflow graph.\n",
    "tf.reset_default_graph()\n",
    "\n",
    "# Runs garbage collector\n",
    "gc.collect()"
   ]
  },
  {
   "cell_type": "code",
   "execution_count": 16,
   "metadata": {},
   "outputs": [],
   "source": [
    "# Run this cell to exclude downloaded files\n",
    "import shutil\n",
    "\n",
    "shutil.rmtree(\"../../tmp/TestSets/\")"
   ]
  }
 ],
 "metadata": {
  "kernelspec": {
   "display_name": "Python 3",
   "language": "python",
   "name": "python3"
  },
  "language_info": {
   "codemirror_mode": {
    "name": "ipython",
    "version": 3
   },
   "file_extension": ".py",
   "mimetype": "text/x-python",
   "name": "python",
   "nbconvert_exporter": "python",
   "pygments_lexer": "ipython3",
   "version": "3.6.8"
  }
 },
 "nbformat": 4,
 "nbformat_minor": 2
}
